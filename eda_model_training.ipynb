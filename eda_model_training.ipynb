{
 "cells": [
  {
   "cell_type": "code",
   "execution_count": 8,
   "id": "90302878-a5ab-4e9d-94b2-94c5bd583bd7",
   "metadata": {},
   "outputs": [],
   "source": [
    "import pandas as pd\n",
    "import numpy as np\n",
    "import yfinance as yf\n",
    "import matplotlib.pyplot as plt\n",
    "import seaborn as sns\n",
    "from sklearn.ensemble import RandomForestClassifier\n",
    "from sklearn.model_selection import train_test_split\n",
    "import joblib"
   ]
  },
  {
   "cell_type": "code",
   "execution_count": 9,
   "id": "8ceadc70-f97a-4ff1-a60a-a4ae57b60aab",
   "metadata": {},
   "outputs": [
    {
     "data": {
      "text/html": [
       "<div>\n",
       "<style scoped>\n",
       "    .dataframe tbody tr th:only-of-type {\n",
       "        vertical-align: middle;\n",
       "    }\n",
       "\n",
       "    .dataframe tbody tr th {\n",
       "        vertical-align: top;\n",
       "    }\n",
       "\n",
       "    .dataframe thead th {\n",
       "        text-align: right;\n",
       "    }\n",
       "</style>\n",
       "<table border=\"1\" class=\"dataframe\">\n",
       "  <thead>\n",
       "    <tr style=\"text-align: right;\">\n",
       "      <th></th>\n",
       "      <th>Ticker</th>\n",
       "      <th>Weight</th>\n",
       "    </tr>\n",
       "  </thead>\n",
       "  <tbody>\n",
       "    <tr>\n",
       "      <th>0</th>\n",
       "      <td>AAPL</td>\n",
       "      <td>0.3</td>\n",
       "    </tr>\n",
       "    <tr>\n",
       "      <th>1</th>\n",
       "      <td>MSFT</td>\n",
       "      <td>0.2</td>\n",
       "    </tr>\n",
       "    <tr>\n",
       "      <th>2</th>\n",
       "      <td>GOOGL</td>\n",
       "      <td>0.2</td>\n",
       "    </tr>\n",
       "    <tr>\n",
       "      <th>3</th>\n",
       "      <td>TSLA</td>\n",
       "      <td>0.1</td>\n",
       "    </tr>\n",
       "    <tr>\n",
       "      <th>4</th>\n",
       "      <td>JPM</td>\n",
       "      <td>0.1</td>\n",
       "    </tr>\n",
       "    <tr>\n",
       "      <th>5</th>\n",
       "      <td>XOM</td>\n",
       "      <td>0.1</td>\n",
       "    </tr>\n",
       "  </tbody>\n",
       "</table>\n",
       "</div>"
      ],
      "text/plain": [
       "  Ticker  Weight\n",
       "0   AAPL     0.3\n",
       "1   MSFT     0.2\n",
       "2  GOOGL     0.2\n",
       "3   TSLA     0.1\n",
       "4    JPM     0.1\n",
       "5    XOM     0.1"
      ]
     },
     "execution_count": 9,
     "metadata": {},
     "output_type": "execute_result"
    }
   ],
   "source": [
    "portfolio_path = \"../data/sample_portfolio.csv\"\n",
    "portfolio_df = pd.read_csv(portfolio_path)\n",
    "portfolio_df\n"
   ]
  },
  {
   "cell_type": "code",
   "execution_count": 10,
   "id": "325cdf6e-3858-4b9f-9011-0b8a646760a8",
   "metadata": {},
   "outputs": [
    {
     "name": "stderr",
     "output_type": "stream",
     "text": [
      "C:\\Users\\admin\\AppData\\Local\\Temp\\ipykernel_15872\\75939658.py:13: FutureWarning: YF.download() has changed argument auto_adjust default to True\n",
      "  prices = yf.download(tickers, start=\"2022-01-01\", end=\"2024-12-31\")['Close']\n",
      "[*********************100%***********************]  5 of 5 completed"
     ]
    },
    {
     "name": "stdout",
     "output_type": "stream",
     "text": [
      "Ticker            AAPL        AMZN       GOOGL        MSFT        TSLA\n",
      "Date                                                                  \n",
      "2022-01-03  178.443115  170.404495  144.127121  325.038055  399.926666\n",
      "2022-01-04  176.178406  167.522003  143.538666  319.464600  383.196655\n",
      "2022-01-05  171.492096  164.356995  136.953629  307.201019  362.706665\n",
      "2022-01-06  168.629303  163.253998  136.926300  304.773560  354.899994\n",
      "2022-01-07  168.795929  162.554001  136.200150  304.928894  342.320007\n"
     ]
    },
    {
     "name": "stderr",
     "output_type": "stream",
     "text": [
      "\n"
     ]
    }
   ],
   "source": [
    "import pandas as pd\n",
    "import yfinance as yf\n",
    "\n",
    "# Example portfolio list\n",
    "portfolio_df = pd.DataFrame({\n",
    "    'Ticker': ['AAPL', 'MSFT', 'GOOGL', 'AMZN', 'TSLA']\n",
    "})\n",
    "\n",
    "# Extract ticker list\n",
    "tickers = portfolio_df['Ticker'].tolist()\n",
    "\n",
    "# Download historical prices\n",
    "prices = yf.download(tickers, start=\"2022-01-01\", end=\"2024-12-31\")['Close']\n",
    "print(prices.head())\n"
   ]
  },
  {
   "cell_type": "code",
   "execution_count": 11,
   "id": "68feeac3-cf06-47e0-bc56-e9e64449c6b5",
   "metadata": {},
   "outputs": [
    {
     "name": "stderr",
     "output_type": "stream",
     "text": [
      "C:\\Users\\admin\\AppData\\Local\\Temp\\ipykernel_15872\\1190625469.py:2: FutureWarning: YF.download() has changed argument auto_adjust default to True\n",
      "  prices = yf.download(tickers, start=\"2022-01-01\", end=\"2024-12-31\",)['Close']\n",
      "[*********************100%***********************]  5 of 5 completed\n"
     ]
    },
    {
     "data": {
      "text/html": [
       "<div>\n",
       "<style scoped>\n",
       "    .dataframe tbody tr th:only-of-type {\n",
       "        vertical-align: middle;\n",
       "    }\n",
       "\n",
       "    .dataframe tbody tr th {\n",
       "        vertical-align: top;\n",
       "    }\n",
       "\n",
       "    .dataframe thead th {\n",
       "        text-align: right;\n",
       "    }\n",
       "</style>\n",
       "<table border=\"1\" class=\"dataframe\">\n",
       "  <thead>\n",
       "    <tr style=\"text-align: right;\">\n",
       "      <th>Ticker</th>\n",
       "      <th>AAPL</th>\n",
       "      <th>AMZN</th>\n",
       "      <th>GOOGL</th>\n",
       "      <th>MSFT</th>\n",
       "      <th>TSLA</th>\n",
       "    </tr>\n",
       "    <tr>\n",
       "      <th>Date</th>\n",
       "      <th></th>\n",
       "      <th></th>\n",
       "      <th></th>\n",
       "      <th></th>\n",
       "      <th></th>\n",
       "    </tr>\n",
       "  </thead>\n",
       "  <tbody>\n",
       "    <tr>\n",
       "      <th>2022-01-03</th>\n",
       "      <td>178.443115</td>\n",
       "      <td>170.404495</td>\n",
       "      <td>144.127121</td>\n",
       "      <td>325.038055</td>\n",
       "      <td>399.926666</td>\n",
       "    </tr>\n",
       "    <tr>\n",
       "      <th>2022-01-04</th>\n",
       "      <td>176.178406</td>\n",
       "      <td>167.522003</td>\n",
       "      <td>143.538666</td>\n",
       "      <td>319.464600</td>\n",
       "      <td>383.196655</td>\n",
       "    </tr>\n",
       "    <tr>\n",
       "      <th>2022-01-05</th>\n",
       "      <td>171.492096</td>\n",
       "      <td>164.356995</td>\n",
       "      <td>136.953629</td>\n",
       "      <td>307.201019</td>\n",
       "      <td>362.706665</td>\n",
       "    </tr>\n",
       "    <tr>\n",
       "      <th>2022-01-06</th>\n",
       "      <td>168.629303</td>\n",
       "      <td>163.253998</td>\n",
       "      <td>136.926300</td>\n",
       "      <td>304.773560</td>\n",
       "      <td>354.899994</td>\n",
       "    </tr>\n",
       "    <tr>\n",
       "      <th>2022-01-07</th>\n",
       "      <td>168.795929</td>\n",
       "      <td>162.554001</td>\n",
       "      <td>136.200150</td>\n",
       "      <td>304.928894</td>\n",
       "      <td>342.320007</td>\n",
       "    </tr>\n",
       "  </tbody>\n",
       "</table>\n",
       "</div>"
      ],
      "text/plain": [
       "Ticker            AAPL        AMZN       GOOGL        MSFT        TSLA\n",
       "Date                                                                  \n",
       "2022-01-03  178.443115  170.404495  144.127121  325.038055  399.926666\n",
       "2022-01-04  176.178406  167.522003  143.538666  319.464600  383.196655\n",
       "2022-01-05  171.492096  164.356995  136.953629  307.201019  362.706665\n",
       "2022-01-06  168.629303  163.253998  136.926300  304.773560  354.899994\n",
       "2022-01-07  168.795929  162.554001  136.200150  304.928894  342.320007"
      ]
     },
     "execution_count": 11,
     "metadata": {},
     "output_type": "execute_result"
    }
   ],
   "source": [
    "tickers = portfolio_df['Ticker'].tolist()\n",
    "prices = yf.download(tickers, start=\"2022-01-01\", end=\"2024-12-31\",)['Close']\n",
    "prices.head()\n"
   ]
  },
  {
   "cell_type": "code",
   "execution_count": 12,
   "id": "68464238-7077-4761-b258-8a05fa30f3a6",
   "metadata": {},
   "outputs": [
    {
     "data": {
      "text/html": [
       "<div>\n",
       "<style scoped>\n",
       "    .dataframe tbody tr th:only-of-type {\n",
       "        vertical-align: middle;\n",
       "    }\n",
       "\n",
       "    .dataframe tbody tr th {\n",
       "        vertical-align: top;\n",
       "    }\n",
       "\n",
       "    .dataframe thead th {\n",
       "        text-align: right;\n",
       "    }\n",
       "</style>\n",
       "<table border=\"1\" class=\"dataframe\">\n",
       "  <thead>\n",
       "    <tr style=\"text-align: right;\">\n",
       "      <th>Ticker</th>\n",
       "      <th>AAPL</th>\n",
       "      <th>AMZN</th>\n",
       "      <th>GOOGL</th>\n",
       "      <th>MSFT</th>\n",
       "      <th>TSLA</th>\n",
       "    </tr>\n",
       "    <tr>\n",
       "      <th>Date</th>\n",
       "      <th></th>\n",
       "      <th></th>\n",
       "      <th></th>\n",
       "      <th></th>\n",
       "      <th></th>\n",
       "    </tr>\n",
       "  </thead>\n",
       "  <tbody>\n",
       "    <tr>\n",
       "      <th>2022-01-04</th>\n",
       "      <td>-0.012691</td>\n",
       "      <td>-0.016916</td>\n",
       "      <td>-0.004083</td>\n",
       "      <td>-0.017147</td>\n",
       "      <td>-0.041833</td>\n",
       "    </tr>\n",
       "    <tr>\n",
       "      <th>2022-01-05</th>\n",
       "      <td>-0.026600</td>\n",
       "      <td>-0.018893</td>\n",
       "      <td>-0.045876</td>\n",
       "      <td>-0.038388</td>\n",
       "      <td>-0.053471</td>\n",
       "    </tr>\n",
       "    <tr>\n",
       "      <th>2022-01-06</th>\n",
       "      <td>-0.016693</td>\n",
       "      <td>-0.006711</td>\n",
       "      <td>-0.000200</td>\n",
       "      <td>-0.007902</td>\n",
       "      <td>-0.021523</td>\n",
       "    </tr>\n",
       "    <tr>\n",
       "      <th>2022-01-07</th>\n",
       "      <td>0.000988</td>\n",
       "      <td>-0.004288</td>\n",
       "      <td>-0.005303</td>\n",
       "      <td>0.000510</td>\n",
       "      <td>-0.035447</td>\n",
       "    </tr>\n",
       "    <tr>\n",
       "      <th>2022-01-10</th>\n",
       "      <td>0.000116</td>\n",
       "      <td>-0.006570</td>\n",
       "      <td>0.012061</td>\n",
       "      <td>0.000732</td>\n",
       "      <td>0.030342</td>\n",
       "    </tr>\n",
       "  </tbody>\n",
       "</table>\n",
       "</div>"
      ],
      "text/plain": [
       "Ticker          AAPL      AMZN     GOOGL      MSFT      TSLA\n",
       "Date                                                        \n",
       "2022-01-04 -0.012691 -0.016916 -0.004083 -0.017147 -0.041833\n",
       "2022-01-05 -0.026600 -0.018893 -0.045876 -0.038388 -0.053471\n",
       "2022-01-06 -0.016693 -0.006711 -0.000200 -0.007902 -0.021523\n",
       "2022-01-07  0.000988 -0.004288 -0.005303  0.000510 -0.035447\n",
       "2022-01-10  0.000116 -0.006570  0.012061  0.000732  0.030342"
      ]
     },
     "execution_count": 12,
     "metadata": {},
     "output_type": "execute_result"
    }
   ],
   "source": [
    "returns = prices.pct_change().dropna()\n",
    "returns.head()\n"
   ]
  },
  {
   "cell_type": "code",
   "execution_count": 13,
   "id": "8c75ba25-27da-4309-b948-337f99bedc35",
   "metadata": {},
   "outputs": [
    {
     "data": {
      "image/png": "[encoded data removed]",
      "text/plain": [
       "<Figure size 800x400 with 1 Axes>"
      ]
     },
     "metadata": {},
     "output_type": "display_data"
    },
    {
     "data": {
      "image/png": "[encoded data removed]",
      "text/plain": [
       "<Figure size 600x500 with 2 Axes>"
      ]
     },
     "metadata": {},
     "output_type": "display_data"
    }
   ],
   "source": [
    "import numpy as np\n",
    "\n",
    "# Volatility per ticker\n",
    "volatility = returns.std() * np.sqrt(252)\n",
    "plt.figure(figsize=(8,4))\n",
    "volatility.plot(kind='bar', color='skyblue')\n",
    "plt.title(\"Annualized Volatility per Ticker\")\n",
    "plt.ylabel(\"Volatility\")\n",
    "plt.show()\n",
    "\n",
    "# Correlation heatmap\n",
    "plt.figure(figsize=(6,5))\n",
    "sns.heatmap(returns.corr(), annot=True, cmap='coolwarm')\n",
    "plt.title(\"Ticker Correlation Matrix\")\n",
    "plt.show()"
   ]
  },
  {
   "cell_type": "code",
   "execution_count": 17,
   "id": "d163cfd8-5926-426a-8b8c-0077ef66aebb",
   "metadata": {},
   "outputs": [
    {
     "name": "stdout",
     "output_type": "stream",
     "text": [
      "Sector Weights:\n",
      " Sector\n",
      "Consumer    0.2\n",
      "Tech        0.6\n",
      "Name: Weight, dtype: float64\n",
      "HHI: 0.40000000000000013\n",
      "Portfolio Volatility: 0.2983714054821259\n",
      "Average Correlation: 0.5674080438381002\n",
      "Sector HHI: 0.40000000000000013\n"
     ]
    }
   ],
   "source": [
    "avg_corr = returns.corr().values[np.triu_indices(len(returns.columns), k=1)].mean()\n",
    "cov_matrix = returns.cov()\n",
    "weights = np.repeat(1/len(portfolio_df), len(portfolio_df))\n",
    "portfolio_vol = np.sqrt(np.dot(weights.T, np.dot(cov_matrix, weights))) * np.sqrt(252)\n",
    "# If no 'Weight' column, assign equal weights\n",
    "if 'Weight' not in portfolio_df.columns:\n",
    "    portfolio_df['Weight'] = 1 / len(portfolio_df)\n",
    "\n",
    "# Map sectors\n",
    "sector_map = {\n",
    "    'AAPL': 'Tech', 'MSFT': 'Tech', 'GOOGL': 'Tech',\n",
    "    'TSLA': 'Consumer', 'JPM': 'Finance', 'XOM': 'Energy'\n",
    "}\n",
    "portfolio_df['Sector'] = portfolio_df['Ticker'].map(sector_map)\n",
    "\n",
    "# Calculate sector weights and HHI\n",
    "sector_weights = portfolio_df.groupby('Sector')['Weight'].sum()\n",
    "hhi = (sector_weights**2).sum()\n",
    "\n",
    "print(\"Sector Weights:\\n\", sector_weights)\n",
    "print(\"HHI:\", hhi)\n",
    "\n",
    "# Example sector HHI\n",
    "sector_map = {\n",
    "    'AAPL': 'Tech', 'MSFT': 'Tech', 'GOOGL': 'Tech',\n",
    "    'TSLA': 'Consumer', 'JPM': 'Finance', 'XOM': 'Energy'\n",
    "}\n",
    "portfolio_df['Sector'] = portfolio_df['Ticker'].map(sector_map)\n",
    "sector_weights = portfolio_df.groupby('Sector')['Weight'].sum()\n",
    "hhi = (sector_weights**2).sum()\n",
    "\n",
    "print(\"Portfolio Volatility:\", portfolio_vol)\n",
    "print(\"Average Correlation:\", avg_corr)\n",
    "print(\"Sector HHI:\", hhi)"
   ]
  },
  {
   "cell_type": "code",
   "execution_count": 18,
   "id": "1eeb5dbd-a4ba-47b7-8e0b-1589d5e92e92",
   "metadata": {},
   "outputs": [
    {
     "name": "stdout",
     "output_type": "stream",
     "text": [
      "Model Accuracy: 0.0\n",
      "Model saved as risk_model.pkl\n"
     ]
    }
   ],
   "source": [
    "X = pd.DataFrame({\n",
    "    'avg_corr': [0.5, 0.8, 0.3],\n",
    "    'hhi': [0.2, 0.6, 0.4],\n",
    "    'volatility': [0.1, 0.3, 0.2]\n",
    "})\n",
    "y = ['Low', 'High', 'Medium']  # Risk labels\n",
    "\n",
    "X_train, X_test, y_train, y_test = train_test_split(X, y, test_size=0.2, random_state=42)\n",
    "\n",
    "# ===============================\n",
    "# 8. Train RandomForest Model\n",
    "# ===============================\n",
    "model = RandomForestClassifier(random_state=42)\n",
    "model.fit(X_train, y_train)\n",
    "\n",
    "# Evaluate model\n",
    "accuracy = model.score(X_test, y_test)\n",
    "print(\"Model Accuracy:\", accuracy)\n",
    "\n",
    "# Save model\n",
    "joblib.dump(model, \"../models/risk_model.pkl\")\n",
    "print(\"Model saved as risk_model.pkl\")"
   ]
  },
  {
   "cell_type": "code",
   "execution_count": 21,
   "id": "1fdb6138-1647-4ef3-bcf8-92a9dda6c1df",
   "metadata": {},
   "outputs": [
    {
     "ename": "FileNotFoundError",
     "evalue": "[Errno 2] No such file or directory: 'sample_portfolio.csv'",
     "output_type": "error",
     "traceback": [
      "\u001b[1;31m---------------------------------------------------------------------------\u001b[0m",
      "\u001b[1;31mFileNotFoundError\u001b[0m                         Traceback (most recent call last)",
      "Cell \u001b[1;32mIn[21], line 14\u001b[0m\n\u001b[0;32m      4\u001b[0m \u001b[38;5;66;03m# === Example: Assume you have a DataFrame with daily returns ===\u001b[39;00m\n\u001b[0;32m      5\u001b[0m \u001b[38;5;66;03m# If you already have returns in a variable, replace this with your actual returns data\u001b[39;00m\n\u001b[0;32m      6\u001b[0m \u001b[38;5;66;03m# Example:\u001b[39;00m\n\u001b[1;32m   (...)\u001b[0m\n\u001b[0;32m     11\u001b[0m \n\u001b[0;32m     12\u001b[0m \u001b[38;5;66;03m# For demo, we'll generate random returns\u001b[39;00m\n\u001b[0;32m     13\u001b[0m np\u001b[38;5;241m.\u001b[39mrandom\u001b[38;5;241m.\u001b[39mseed(\u001b[38;5;241m42\u001b[39m)\n\u001b[1;32m---> 14\u001b[0m df \u001b[38;5;241m=\u001b[39m \u001b[43mpd\u001b[49m\u001b[38;5;241;43m.\u001b[39;49m\u001b[43mread_csv\u001b[49m\u001b[43m(\u001b[49m\u001b[38;5;124;43m\"\u001b[39;49m\u001b[38;5;124;43msample_portfolio.csv\u001b[39;49m\u001b[38;5;124;43m\"\u001b[39;49m\u001b[43m)\u001b[49m\n\u001b[0;32m     15\u001b[0m df[\u001b[38;5;124m'\u001b[39m\u001b[38;5;124mreturns\u001b[39m\u001b[38;5;124m'\u001b[39m] \u001b[38;5;241m=\u001b[39m df[\u001b[38;5;124m'\u001b[39m\u001b[38;5;124mstrategy_returns\u001b[39m\u001b[38;5;124m'\u001b[39m]  \u001b[38;5;66;03m# column with your daily returns\u001b[39;00m\n\u001b[0;32m     18\u001b[0m \u001b[38;5;66;03m# === Risk Metrics Functions ===\u001b[39;00m\n",
      "File \u001b[1;32m~\\Desktop\\ai_portfolio-risk-advisor\\venv\\lib\\site-packages\\pandas\\io\\parsers\\readers.py:1026\u001b[0m, in \u001b[0;36mread_csv\u001b[1;34m(filepath_or_buffer, sep, delimiter, header, names, index_col, usecols, dtype, engine, converters, true_values, false_values, skipinitialspace, skiprows, skipfooter, nrows, na_values, keep_default_na, na_filter, verbose, skip_blank_lines, parse_dates, infer_datetime_format, keep_date_col, date_parser, date_format, dayfirst, cache_dates, iterator, chunksize, compression, thousands, decimal, lineterminator, quotechar, quoting, doublequote, escapechar, comment, encoding, encoding_errors, dialect, on_bad_lines, delim_whitespace, low_memory, memory_map, float_precision, storage_options, dtype_backend)\u001b[0m\n\u001b[0;32m   1013\u001b[0m kwds_defaults \u001b[38;5;241m=\u001b[39m _refine_defaults_read(\n\u001b[0;32m   1014\u001b[0m     dialect,\n\u001b[0;32m   1015\u001b[0m     delimiter,\n\u001b[1;32m   (...)\u001b[0m\n\u001b[0;32m   1022\u001b[0m     dtype_backend\u001b[38;5;241m=\u001b[39mdtype_backend,\n\u001b[0;32m   1023\u001b[0m )\n\u001b[0;32m   1024\u001b[0m kwds\u001b[38;5;241m.\u001b[39mupdate(kwds_defaults)\n\u001b[1;32m-> 1026\u001b[0m \u001b[38;5;28;01mreturn\u001b[39;00m \u001b[43m_read\u001b[49m\u001b[43m(\u001b[49m\u001b[43mfilepath_or_buffer\u001b[49m\u001b[43m,\u001b[49m\u001b[43m \u001b[49m\u001b[43mkwds\u001b[49m\u001b[43m)\u001b[49m\n",
      "File \u001b[1;32m~\\Desktop\\ai_portfolio-risk-advisor\\venv\\lib\\site-packages\\pandas\\io\\parsers\\readers.py:620\u001b[0m, in \u001b[0;36m_read\u001b[1;34m(filepath_or_buffer, kwds)\u001b[0m\n\u001b[0;32m    617\u001b[0m _validate_names(kwds\u001b[38;5;241m.\u001b[39mget(\u001b[38;5;124m\"\u001b[39m\u001b[38;5;124mnames\u001b[39m\u001b[38;5;124m\"\u001b[39m, \u001b[38;5;28;01mNone\u001b[39;00m))\n\u001b[0;32m    619\u001b[0m \u001b[38;5;66;03m# Create the parser.\u001b[39;00m\n\u001b[1;32m--> 620\u001b[0m parser \u001b[38;5;241m=\u001b[39m TextFileReader(filepath_or_buffer, \u001b[38;5;241m*\u001b[39m\u001b[38;5;241m*\u001b[39mkwds)\n\u001b[0;32m    622\u001b[0m \u001b[38;5;28;01mif\u001b[39;00m chunksize \u001b[38;5;129;01mor\u001b[39;00m iterator:\n\u001b[0;32m    623\u001b[0m     \u001b[38;5;28;01mreturn\u001b[39;00m parser\n",
      "File \u001b[1;32m~\\Desktop\\ai_portfolio-risk-advisor\\venv\\lib\\site-packages\\pandas\\io\\parsers\\readers.py:1620\u001b[0m, in \u001b[0;36mTextFileReader.__init__\u001b[1;34m(self, f, engine, **kwds)\u001b[0m\n\u001b[0;32m   1617\u001b[0m     \u001b[38;5;28mself\u001b[39m\u001b[38;5;241m.\u001b[39moptions[\u001b[38;5;124m\"\u001b[39m\u001b[38;5;124mhas_index_names\u001b[39m\u001b[38;5;124m\"\u001b[39m] \u001b[38;5;241m=\u001b[39m kwds[\u001b[38;5;124m\"\u001b[39m\u001b[38;5;124mhas_index_names\u001b[39m\u001b[38;5;124m\"\u001b[39m]\n\u001b[0;32m   1619\u001b[0m \u001b[38;5;28mself\u001b[39m\u001b[38;5;241m.\u001b[39mhandles: IOHandles \u001b[38;5;241m|\u001b[39m \u001b[38;5;28;01mNone\u001b[39;00m \u001b[38;5;241m=\u001b[39m \u001b[38;5;28;01mNone\u001b[39;00m\n\u001b[1;32m-> 1620\u001b[0m \u001b[38;5;28mself\u001b[39m\u001b[38;5;241m.\u001b[39m_engine \u001b[38;5;241m=\u001b[39m \u001b[38;5;28;43mself\u001b[39;49m\u001b[38;5;241;43m.\u001b[39;49m\u001b[43m_make_engine\u001b[49m\u001b[43m(\u001b[49m\u001b[43mf\u001b[49m\u001b[43m,\u001b[49m\u001b[43m \u001b[49m\u001b[38;5;28;43mself\u001b[39;49m\u001b[38;5;241;43m.\u001b[39;49m\u001b[43mengine\u001b[49m\u001b[43m)\u001b[49m\n",
      "File \u001b[1;32m~\\Desktop\\ai_portfolio-risk-advisor\\venv\\lib\\site-packages\\pandas\\io\\parsers\\readers.py:1880\u001b[0m, in \u001b[0;36mTextFileReader._make_engine\u001b[1;34m(self, f, engine)\u001b[0m\n\u001b[0;32m   1878\u001b[0m     \u001b[38;5;28;01mif\u001b[39;00m \u001b[38;5;124m\"\u001b[39m\u001b[38;5;124mb\u001b[39m\u001b[38;5;124m\"\u001b[39m \u001b[38;5;129;01mnot\u001b[39;00m \u001b[38;5;129;01min\u001b[39;00m mode:\n\u001b[0;32m   1879\u001b[0m         mode \u001b[38;5;241m+\u001b[39m\u001b[38;5;241m=\u001b[39m \u001b[38;5;124m\"\u001b[39m\u001b[38;5;124mb\u001b[39m\u001b[38;5;124m\"\u001b[39m\n\u001b[1;32m-> 1880\u001b[0m \u001b[38;5;28mself\u001b[39m\u001b[38;5;241m.\u001b[39mhandles \u001b[38;5;241m=\u001b[39m \u001b[43mget_handle\u001b[49m\u001b[43m(\u001b[49m\n\u001b[0;32m   1881\u001b[0m \u001b[43m    \u001b[49m\u001b[43mf\u001b[49m\u001b[43m,\u001b[49m\n\u001b[0;32m   1882\u001b[0m \u001b[43m    \u001b[49m\u001b[43mmode\u001b[49m\u001b[43m,\u001b[49m\n\u001b[0;32m   1883\u001b[0m \u001b[43m    \u001b[49m\u001b[43mencoding\u001b[49m\u001b[38;5;241;43m=\u001b[39;49m\u001b[38;5;28;43mself\u001b[39;49m\u001b[38;5;241;43m.\u001b[39;49m\u001b[43moptions\u001b[49m\u001b[38;5;241;43m.\u001b[39;49m\u001b[43mget\u001b[49m\u001b[43m(\u001b[49m\u001b[38;5;124;43m\"\u001b[39;49m\u001b[38;5;124;43mencoding\u001b[39;49m\u001b[38;5;124;43m\"\u001b[39;49m\u001b[43m,\u001b[49m\u001b[43m \u001b[49m\u001b[38;5;28;43;01mNone\u001b[39;49;00m\u001b[43m)\u001b[49m\u001b[43m,\u001b[49m\n\u001b[0;32m   1884\u001b[0m \u001b[43m    \u001b[49m\u001b[43mcompression\u001b[49m\u001b[38;5;241;43m=\u001b[39;49m\u001b[38;5;28;43mself\u001b[39;49m\u001b[38;5;241;43m.\u001b[39;49m\u001b[43moptions\u001b[49m\u001b[38;5;241;43m.\u001b[39;49m\u001b[43mget\u001b[49m\u001b[43m(\u001b[49m\u001b[38;5;124;43m\"\u001b[39;49m\u001b[38;5;124;43mcompression\u001b[39;49m\u001b[38;5;124;43m\"\u001b[39;49m\u001b[43m,\u001b[49m\u001b[43m \u001b[49m\u001b[38;5;28;43;01mNone\u001b[39;49;00m\u001b[43m)\u001b[49m\u001b[43m,\u001b[49m\n\u001b[0;32m   1885\u001b[0m \u001b[43m    \u001b[49m\u001b[43mmemory_map\u001b[49m\u001b[38;5;241;43m=\u001b[39;49m\u001b[38;5;28;43mself\u001b[39;49m\u001b[38;5;241;43m.\u001b[39;49m\u001b[43moptions\u001b[49m\u001b[38;5;241;43m.\u001b[39;49m\u001b[43mget\u001b[49m\u001b[43m(\u001b[49m\u001b[38;5;124;43m\"\u001b[39;49m\u001b[38;5;124;43mmemory_map\u001b[39;49m\u001b[38;5;124;43m\"\u001b[39;49m\u001b[43m,\u001b[49m\u001b[43m \u001b[49m\u001b[38;5;28;43;01mFalse\u001b[39;49;00m\u001b[43m)\u001b[49m\u001b[43m,\u001b[49m\n\u001b[0;32m   1886\u001b[0m \u001b[43m    \u001b[49m\u001b[43mis_text\u001b[49m\u001b[38;5;241;43m=\u001b[39;49m\u001b[43mis_text\u001b[49m\u001b[43m,\u001b[49m\n\u001b[0;32m   1887\u001b[0m \u001b[43m    \u001b[49m\u001b[43merrors\u001b[49m\u001b[38;5;241;43m=\u001b[39;49m\u001b[38;5;28;43mself\u001b[39;49m\u001b[38;5;241;43m.\u001b[39;49m\u001b[43moptions\u001b[49m\u001b[38;5;241;43m.\u001b[39;49m\u001b[43mget\u001b[49m\u001b[43m(\u001b[49m\u001b[38;5;124;43m\"\u001b[39;49m\u001b[38;5;124;43mencoding_errors\u001b[39;49m\u001b[38;5;124;43m\"\u001b[39;49m\u001b[43m,\u001b[49m\u001b[43m \u001b[49m\u001b[38;5;124;43m\"\u001b[39;49m\u001b[38;5;124;43mstrict\u001b[39;49m\u001b[38;5;124;43m\"\u001b[39;49m\u001b[43m)\u001b[49m\u001b[43m,\u001b[49m\n\u001b[0;32m   1888\u001b[0m \u001b[43m    \u001b[49m\u001b[43mstorage_options\u001b[49m\u001b[38;5;241;43m=\u001b[39;49m\u001b[38;5;28;43mself\u001b[39;49m\u001b[38;5;241;43m.\u001b[39;49m\u001b[43moptions\u001b[49m\u001b[38;5;241;43m.\u001b[39;49m\u001b[43mget\u001b[49m\u001b[43m(\u001b[49m\u001b[38;5;124;43m\"\u001b[39;49m\u001b[38;5;124;43mstorage_options\u001b[39;49m\u001b[38;5;124;43m\"\u001b[39;49m\u001b[43m,\u001b[49m\u001b[43m \u001b[49m\u001b[38;5;28;43;01mNone\u001b[39;49;00m\u001b[43m)\u001b[49m\u001b[43m,\u001b[49m\n\u001b[0;32m   1889\u001b[0m \u001b[43m\u001b[49m\u001b[43m)\u001b[49m\n\u001b[0;32m   1890\u001b[0m \u001b[38;5;28;01massert\u001b[39;00m \u001b[38;5;28mself\u001b[39m\u001b[38;5;241m.\u001b[39mhandles \u001b[38;5;129;01mis\u001b[39;00m \u001b[38;5;129;01mnot\u001b[39;00m \u001b[38;5;28;01mNone\u001b[39;00m\n\u001b[0;32m   1891\u001b[0m f \u001b[38;5;241m=\u001b[39m \u001b[38;5;28mself\u001b[39m\u001b[38;5;241m.\u001b[39mhandles\u001b[38;5;241m.\u001b[39mhandle\n",
      "File \u001b[1;32m~\\Desktop\\ai_portfolio-risk-advisor\\venv\\lib\\site-packages\\pandas\\io\\common.py:873\u001b[0m, in \u001b[0;36mget_handle\u001b[1;34m(path_or_buf, mode, encoding, compression, memory_map, is_text, errors, storage_options)\u001b[0m\n\u001b[0;32m    868\u001b[0m \u001b[38;5;28;01melif\u001b[39;00m \u001b[38;5;28misinstance\u001b[39m(handle, \u001b[38;5;28mstr\u001b[39m):\n\u001b[0;32m    869\u001b[0m     \u001b[38;5;66;03m# Check whether the filename is to be opened in binary mode.\u001b[39;00m\n\u001b[0;32m    870\u001b[0m     \u001b[38;5;66;03m# Binary mode does not support 'encoding' and 'newline'.\u001b[39;00m\n\u001b[0;32m    871\u001b[0m     \u001b[38;5;28;01mif\u001b[39;00m ioargs\u001b[38;5;241m.\u001b[39mencoding \u001b[38;5;129;01mand\u001b[39;00m \u001b[38;5;124m\"\u001b[39m\u001b[38;5;124mb\u001b[39m\u001b[38;5;124m\"\u001b[39m \u001b[38;5;129;01mnot\u001b[39;00m \u001b[38;5;129;01min\u001b[39;00m ioargs\u001b[38;5;241m.\u001b[39mmode:\n\u001b[0;32m    872\u001b[0m         \u001b[38;5;66;03m# Encoding\u001b[39;00m\n\u001b[1;32m--> 873\u001b[0m         handle \u001b[38;5;241m=\u001b[39m \u001b[38;5;28;43mopen\u001b[39;49m\u001b[43m(\u001b[49m\n\u001b[0;32m    874\u001b[0m \u001b[43m            \u001b[49m\u001b[43mhandle\u001b[49m\u001b[43m,\u001b[49m\n\u001b[0;32m    875\u001b[0m \u001b[43m            \u001b[49m\u001b[43mioargs\u001b[49m\u001b[38;5;241;43m.\u001b[39;49m\u001b[43mmode\u001b[49m\u001b[43m,\u001b[49m\n\u001b[0;32m    876\u001b[0m \u001b[43m            \u001b[49m\u001b[43mencoding\u001b[49m\u001b[38;5;241;43m=\u001b[39;49m\u001b[43mioargs\u001b[49m\u001b[38;5;241;43m.\u001b[39;49m\u001b[43mencoding\u001b[49m\u001b[43m,\u001b[49m\n\u001b[0;32m    877\u001b[0m \u001b[43m            \u001b[49m\u001b[43merrors\u001b[49m\u001b[38;5;241;43m=\u001b[39;49m\u001b[43merrors\u001b[49m\u001b[43m,\u001b[49m\n\u001b[0;32m    878\u001b[0m \u001b[43m            \u001b[49m\u001b[43mnewline\u001b[49m\u001b[38;5;241;43m=\u001b[39;49m\u001b[38;5;124;43m\"\u001b[39;49m\u001b[38;5;124;43m\"\u001b[39;49m\u001b[43m,\u001b[49m\n\u001b[0;32m    879\u001b[0m \u001b[43m        \u001b[49m\u001b[43m)\u001b[49m\n\u001b[0;32m    880\u001b[0m     \u001b[38;5;28;01melse\u001b[39;00m:\n\u001b[0;32m    881\u001b[0m         \u001b[38;5;66;03m# Binary mode\u001b[39;00m\n\u001b[0;32m    882\u001b[0m         handle \u001b[38;5;241m=\u001b[39m \u001b[38;5;28mopen\u001b[39m(handle, ioargs\u001b[38;5;241m.\u001b[39mmode)\n",
      "\u001b[1;31mFileNotFoundError\u001b[0m: [Errno 2] No such file or directory: 'sample_portfolio.csv'"
     ]
    }
   ],
   "source": [
    "import numpy as np\n",
    "import pandas as pd\n",
    "\n",
    "# === Example: Assume you have a DataFrame with daily returns ===\n",
    "# If you already have returns in a variable, replace this with your actual returns data\n",
    "# Example:\n",
    "# df['returns'] = model_predictions  # your strategy returns\n",
    "# Or load from CSV:\n",
    "# df = pd.read_csv(\"strategy_results.csv\")\n",
    "# df['returns'] = df['strategy_returns']\n",
    "\n",
    "# For demo, we'll generate random returns\n",
    "np.random.seed(42)\n",
    "df = pd.read_csv(\"sample_portfolio.csv\")\n",
    "df['returns'] = df['strategy_returns']  # column with your daily returns\n",
    "\n",
    "\n",
    "# === Risk Metrics Functions ===\n",
    "def CAGR(returns):\n",
    "    \"\"\"Compound Annual Growth Rate\"\"\"\n",
    "    cumulative_return = (1 + returns).prod()\n",
    "    n_years = len(returns) / 252\n",
    "    return cumulative_return ** (1 / n_years) - 1\n",
    "\n",
    "def volatility(returns):\n",
    "    \"\"\"Annualized Volatility\"\"\"\n",
    "    return returns.std() * np.sqrt(252)\n",
    "\n",
    "def sharpe_ratio(returns, risk_free_rate=0.02):\n",
    "    \"\"\"Sharpe Ratio\"\"\"\n",
    "    excess_return = CAGR(returns) - risk_free_rate\n",
    "    return excess_return / volatility(returns)\n",
    "\n",
    "def sortino_ratio(returns, risk_free_rate=0.02):\n",
    "    \"\"\"Sortino Ratio\"\"\"\n",
    "    downside_returns = returns[returns < 0]\n",
    "    excess_return = CAGR(returns) - risk_free_rate\n",
    "    downside_vol = downside_returns.std() * np.sqrt(252)\n",
    "    return excess_return / downside_vol if downside_vol != 0 else np.nan\n",
    "\n",
    "def max_drawdown(returns):\n",
    "    \"\"\"Max Drawdown\"\"\"\n",
    "    cumulative = (1 + returns).cumprod()\n",
    "    peak = cumulative.cummax()\n",
    "    drawdown = (cumulative - peak) / peak\n",
    "    return drawdown.min()\n",
    "\n",
    "def win_rate(returns):\n",
    "    \"\"\"Winning Days Percentage\"\"\"\n",
    "    return len(returns[returns > 0]) / len(returns)\n",
    "\n",
    "# === Calculate Metrics ===\n",
    "metrics = {\n",
    "    \"CAGR\": CAGR(df['returns']),\n",
    "    \"Volatility\": volatility(df['returns']),\n",
    "    \"Sharpe Ratio\": sharpe_ratio(df['returns']),\n",
    "    \"Sortino Ratio\": sortino_ratio(df['returns']),\n",
    "    \"Max Drawdown\": max_drawdown(df['returns']),\n",
    "    \"Win Rate\": win_rate(df['returns'])\n",
    "}\n",
    "\n",
    "# === Display Metrics ===\n",
    "metrics_df = pd.DataFrame.from_dict(metrics, orient='index', columns=['Value'])\n",
    "metrics_df['Value'] = metrics_df['Value'].apply(lambda x: f\"{x:.2%}\" if abs(x) < 10 else f\"{x:.2f}\")\n",
    "display(metrics_df)\n"
   ]
  },
  {
   "cell_type": "code",
   "execution_count": null,
   "id": "84c64a8d-d4ec-4b7e-a84b-4d869a12ed0e",
   "metadata": {},
   "outputs": [],
   "source": []
  }
 ],
 "metadata": {
  "kernelspec": {
   "display_name": "Python (AI Portfolio)",
   "language": "python",
   "name": "ai_portfolio-risk-advisor"
  },
  "language_info": {
   "codemirror_mode": {
    "name": "ipython",
    "version": 3
   },
   "file_extension": ".py",
   "mimetype": "text/x-python",
   "name": "python",
   "nbconvert_exporter": "python",
   "pygments_lexer": "ipython3",
   "version": "3.10.11"
  }
 },
 "nbformat": 4,
 "nbformat_minor": 5
}
